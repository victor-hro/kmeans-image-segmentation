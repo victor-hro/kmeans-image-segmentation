{
 "cells": [
  {
   "cell_type": "code",
   "execution_count": 13,
   "source": [
    "from sklearn.cluster import KMeans\n",
    "import matplotlib.pyplot as plt\n",
    "from PIL import Image\n",
    "import os\n",
    "import numpy as np"
   ],
   "outputs": [],
   "metadata": {}
  },
  {
   "cell_type": "code",
   "execution_count": 14,
   "source": [
    "\n",
    "K = input(\"Enter the number of clusters: \")\n",
    "filename = os.path.join('images', input(\"Enter the file name: \"))"
   ],
   "outputs": [],
   "metadata": {}
  },
  {
   "cell_type": "code",
   "execution_count": 15,
   "source": [
    "\n",
    "loaded_image = Image.open(filename)\n",
    "rgb_img = loaded_image.convert('RGB')\n",
    "img = np.array(rgb_img)\n"
   ],
   "outputs": [],
   "metadata": {}
  },
  {
   "cell_type": "code",
   "execution_count": 16,
   "source": [
    "\n",
    "X = img.reshape(-1, 3)\n",
    "X.shape\n"
   ],
   "outputs": [
    {
     "output_type": "execute_result",
     "data": {
      "text/plain": [
       "(212018, 3)"
      ]
     },
     "metadata": {},
     "execution_count": 16
    }
   ],
   "metadata": {}
  },
  {
   "cell_type": "code",
   "execution_count": 17,
   "source": [
    "X = X.astype(np.float32)"
   ],
   "outputs": [],
   "metadata": {}
  },
  {
   "cell_type": "code",
   "execution_count": 26,
   "source": [
    "model = KMeans(n_clusters=int(K), random_state=0).fit(X)\n",
    "\n",
    "\n",
    "# plot_data(X, labels, centroids, previous_centroids)\n",
    "print(\"Iterações: \", model.n_iter_)\n",
    "#print(\"Inertia: \", model.inertia_)\n",
    "\n",
    "# ================== RESHAPE ================== #\n",
    "\n",
    "# substitua a cor de cada pixel da imagem pelo centróide do cluster correspondente mostre \n",
    "# as duas imagens lado a lado.\n",
    "centroids = model.cluster_centers_\n",
    "label = model.labels_\n",
    "\n",
    "image_rec = centroids[label].reshape(img.shape) \n",
    "\n",
    "plt.figure(figsize=(8, 4))\n",
    "plt.subplot(1,2,1)\n",
    "plt.imshow(img)\n",
    "plt.title('Original')\n",
    "plt.axis('off');\n",
    "plt.subplot(1,2,2)\n",
    "plt.imshow(np.clip(image_rec,0,255).astype(np.uint8))\n",
    "plt.title('Compressed, with {} colors'.format(K))\n",
    "plt.axis('off');\n",
    "plt.show()"
   ],
   "outputs": [],
   "metadata": {}
  },
  {
   "cell_type": "code",
   "execution_count": null,
   "source": [],
   "outputs": [],
   "metadata": {}
  }
 ],
 "metadata": {
  "orig_nbformat": 4,
  "language_info": {
   "name": "python",
   "version": "3.8.8",
   "mimetype": "text/x-python",
   "codemirror_mode": {
    "name": "ipython",
    "version": 3
   },
   "pygments_lexer": "ipython3",
   "nbconvert_exporter": "python",
   "file_extension": ".py"
  },
  "kernelspec": {
   "name": "python3",
   "display_name": "Python 3.8.8 64-bit ('base': conda)"
  },
  "interpreter": {
   "hash": "99ac092c052c335a585d60519d25aff84681decc510ed8ced49adeb4d0f2067a"
  }
 },
 "nbformat": 4,
 "nbformat_minor": 2
}